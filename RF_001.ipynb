{
 "cells": [
  {
   "cell_type": "code",
   "execution_count": 1,
   "id": "25ac09fc",
   "metadata": {},
   "outputs": [
    {
     "name": "stdout",
     "output_type": "stream",
     "text": [
      "/Users/fangxinniu/Documents/data sense\n"
     ]
    }
   ],
   "source": [
    "import pandas as pd\n",
    "import os\n",
    "work_path = os.getcwd()\n",
    "print(work_path)"
   ]
  },
  {
   "cell_type": "code",
   "execution_count": 4,
   "id": "37c90031",
   "metadata": {},
   "outputs": [
    {
     "data": {
      "text/html": [
       "<div>\n",
       "<style scoped>\n",
       "    .dataframe tbody tr th:only-of-type {\n",
       "        vertical-align: middle;\n",
       "    }\n",
       "\n",
       "    .dataframe tbody tr th {\n",
       "        vertical-align: top;\n",
       "    }\n",
       "\n",
       "    .dataframe thead th {\n",
       "        text-align: right;\n",
       "    }\n",
       "</style>\n",
       "<table border=\"1\" class=\"dataframe\">\n",
       "  <thead>\n",
       "    <tr style=\"text-align: right;\">\n",
       "      <th></th>\n",
       "      <th>year</th>\n",
       "      <th>month</th>\n",
       "      <th>day</th>\n",
       "      <th>week</th>\n",
       "      <th>temp_2</th>\n",
       "      <th>temp_1</th>\n",
       "      <th>average</th>\n",
       "      <th>actual</th>\n",
       "      <th>forecast_noaa</th>\n",
       "      <th>forecast_acc</th>\n",
       "      <th>forecast_under</th>\n",
       "      <th>friend</th>\n",
       "    </tr>\n",
       "  </thead>\n",
       "  <tbody>\n",
       "    <tr>\n",
       "      <th>0</th>\n",
       "      <td>2016</td>\n",
       "      <td>1</td>\n",
       "      <td>1</td>\n",
       "      <td>Fri</td>\n",
       "      <td>45</td>\n",
       "      <td>45</td>\n",
       "      <td>45.6</td>\n",
       "      <td>45</td>\n",
       "      <td>43</td>\n",
       "      <td>50</td>\n",
       "      <td>44</td>\n",
       "      <td>29</td>\n",
       "    </tr>\n",
       "    <tr>\n",
       "      <th>1</th>\n",
       "      <td>2016</td>\n",
       "      <td>1</td>\n",
       "      <td>2</td>\n",
       "      <td>Sat</td>\n",
       "      <td>44</td>\n",
       "      <td>45</td>\n",
       "      <td>45.7</td>\n",
       "      <td>44</td>\n",
       "      <td>41</td>\n",
       "      <td>50</td>\n",
       "      <td>44</td>\n",
       "      <td>61</td>\n",
       "    </tr>\n",
       "    <tr>\n",
       "      <th>2</th>\n",
       "      <td>2016</td>\n",
       "      <td>1</td>\n",
       "      <td>3</td>\n",
       "      <td>Sun</td>\n",
       "      <td>45</td>\n",
       "      <td>44</td>\n",
       "      <td>45.8</td>\n",
       "      <td>41</td>\n",
       "      <td>43</td>\n",
       "      <td>46</td>\n",
       "      <td>47</td>\n",
       "      <td>56</td>\n",
       "    </tr>\n",
       "    <tr>\n",
       "      <th>3</th>\n",
       "      <td>2016</td>\n",
       "      <td>1</td>\n",
       "      <td>4</td>\n",
       "      <td>Mon</td>\n",
       "      <td>44</td>\n",
       "      <td>41</td>\n",
       "      <td>45.9</td>\n",
       "      <td>40</td>\n",
       "      <td>44</td>\n",
       "      <td>48</td>\n",
       "      <td>46</td>\n",
       "      <td>53</td>\n",
       "    </tr>\n",
       "    <tr>\n",
       "      <th>4</th>\n",
       "      <td>2016</td>\n",
       "      <td>1</td>\n",
       "      <td>5</td>\n",
       "      <td>Tues</td>\n",
       "      <td>41</td>\n",
       "      <td>40</td>\n",
       "      <td>46.0</td>\n",
       "      <td>44</td>\n",
       "      <td>46</td>\n",
       "      <td>46</td>\n",
       "      <td>46</td>\n",
       "      <td>41</td>\n",
       "    </tr>\n",
       "  </tbody>\n",
       "</table>\n",
       "</div>"
      ],
      "text/plain": [
       "   year  month  day  week  temp_2  temp_1  average  actual  forecast_noaa  \\\n",
       "0  2016      1    1   Fri      45      45     45.6      45             43   \n",
       "1  2016      1    2   Sat      44      45     45.7      44             41   \n",
       "2  2016      1    3   Sun      45      44     45.8      41             43   \n",
       "3  2016      1    4   Mon      44      41     45.9      40             44   \n",
       "4  2016      1    5  Tues      41      40     46.0      44             46   \n",
       "\n",
       "   forecast_acc  forecast_under  friend  \n",
       "0            50              44      29  \n",
       "1            50              44      61  \n",
       "2            46              47      56  \n",
       "3            48              46      53  \n",
       "4            46              46      41  "
      ]
     },
     "execution_count": 4,
     "metadata": {},
     "output_type": "execute_result"
    }
   ],
   "source": [
    "path = work_path+'/temps.csv'\n",
    "data = pd.read_csv(path)\n",
    "data.head(5)"
   ]
  },
  {
   "cell_type": "markdown",
   "id": "c8cb7c2a",
   "metadata": {},
   "source": [
    "# identify anomalies"
   ]
  },
  {
   "cell_type": "code",
   "execution_count": 5,
   "id": "ae049cc3",
   "metadata": {},
   "outputs": [
    {
     "name": "stdout",
     "output_type": "stream",
     "text": [
      "the shape of feature is (348, 12)\n"
     ]
    }
   ],
   "source": [
    "print('the shape of feature is',data.shape)"
   ]
  },
  {
   "cell_type": "code",
   "execution_count": 7,
   "id": "49ebc244",
   "metadata": {},
   "outputs": [
    {
     "data": {
      "text/plain": [
       "year              0\n",
       "month             0\n",
       "day               0\n",
       "week              0\n",
       "temp_2            0\n",
       "temp_1            0\n",
       "average           0\n",
       "actual            0\n",
       "forecast_noaa     0\n",
       "forecast_acc      0\n",
       "forecast_under    0\n",
       "friend            0\n",
       "dtype: int64"
      ]
     },
     "execution_count": 7,
     "metadata": {},
     "output_type": "execute_result"
    }
   ],
   "source": [
    "data.isnull().sum()\n",
    "data.describe() # to see any data points appear as anomalies and no zeros in any of the measurement columns.\n",
    "# or make basic plots to spot anomalies"
   ]
  },
  {
   "cell_type": "code",
   "execution_count": 8,
   "id": "b2de07c1",
   "metadata": {},
   "outputs": [
    {
     "data": {
      "text/html": [
       "<div>\n",
       "<style scoped>\n",
       "    .dataframe tbody tr th:only-of-type {\n",
       "        vertical-align: middle;\n",
       "    }\n",
       "\n",
       "    .dataframe tbody tr th {\n",
       "        vertical-align: top;\n",
       "    }\n",
       "\n",
       "    .dataframe thead th {\n",
       "        text-align: right;\n",
       "    }\n",
       "</style>\n",
       "<table border=\"1\" class=\"dataframe\">\n",
       "  <thead>\n",
       "    <tr style=\"text-align: right;\">\n",
       "      <th></th>\n",
       "      <th>year</th>\n",
       "      <th>month</th>\n",
       "      <th>day</th>\n",
       "      <th>temp_2</th>\n",
       "      <th>temp_1</th>\n",
       "      <th>average</th>\n",
       "      <th>actual</th>\n",
       "      <th>forecast_noaa</th>\n",
       "      <th>forecast_acc</th>\n",
       "      <th>forecast_under</th>\n",
       "      <th>friend</th>\n",
       "      <th>week_Fri</th>\n",
       "      <th>week_Mon</th>\n",
       "      <th>week_Sat</th>\n",
       "      <th>week_Sun</th>\n",
       "      <th>week_Thurs</th>\n",
       "      <th>week_Tues</th>\n",
       "      <th>week_Wed</th>\n",
       "    </tr>\n",
       "  </thead>\n",
       "  <tbody>\n",
       "    <tr>\n",
       "      <th>0</th>\n",
       "      <td>2016</td>\n",
       "      <td>1</td>\n",
       "      <td>1</td>\n",
       "      <td>45</td>\n",
       "      <td>45</td>\n",
       "      <td>45.6</td>\n",
       "      <td>45</td>\n",
       "      <td>43</td>\n",
       "      <td>50</td>\n",
       "      <td>44</td>\n",
       "      <td>29</td>\n",
       "      <td>1</td>\n",
       "      <td>0</td>\n",
       "      <td>0</td>\n",
       "      <td>0</td>\n",
       "      <td>0</td>\n",
       "      <td>0</td>\n",
       "      <td>0</td>\n",
       "    </tr>\n",
       "    <tr>\n",
       "      <th>1</th>\n",
       "      <td>2016</td>\n",
       "      <td>1</td>\n",
       "      <td>2</td>\n",
       "      <td>44</td>\n",
       "      <td>45</td>\n",
       "      <td>45.7</td>\n",
       "      <td>44</td>\n",
       "      <td>41</td>\n",
       "      <td>50</td>\n",
       "      <td>44</td>\n",
       "      <td>61</td>\n",
       "      <td>0</td>\n",
       "      <td>0</td>\n",
       "      <td>1</td>\n",
       "      <td>0</td>\n",
       "      <td>0</td>\n",
       "      <td>0</td>\n",
       "      <td>0</td>\n",
       "    </tr>\n",
       "    <tr>\n",
       "      <th>2</th>\n",
       "      <td>2016</td>\n",
       "      <td>1</td>\n",
       "      <td>3</td>\n",
       "      <td>45</td>\n",
       "      <td>44</td>\n",
       "      <td>45.8</td>\n",
       "      <td>41</td>\n",
       "      <td>43</td>\n",
       "      <td>46</td>\n",
       "      <td>47</td>\n",
       "      <td>56</td>\n",
       "      <td>0</td>\n",
       "      <td>0</td>\n",
       "      <td>0</td>\n",
       "      <td>1</td>\n",
       "      <td>0</td>\n",
       "      <td>0</td>\n",
       "      <td>0</td>\n",
       "    </tr>\n",
       "    <tr>\n",
       "      <th>3</th>\n",
       "      <td>2016</td>\n",
       "      <td>1</td>\n",
       "      <td>4</td>\n",
       "      <td>44</td>\n",
       "      <td>41</td>\n",
       "      <td>45.9</td>\n",
       "      <td>40</td>\n",
       "      <td>44</td>\n",
       "      <td>48</td>\n",
       "      <td>46</td>\n",
       "      <td>53</td>\n",
       "      <td>0</td>\n",
       "      <td>1</td>\n",
       "      <td>0</td>\n",
       "      <td>0</td>\n",
       "      <td>0</td>\n",
       "      <td>0</td>\n",
       "      <td>0</td>\n",
       "    </tr>\n",
       "    <tr>\n",
       "      <th>4</th>\n",
       "      <td>2016</td>\n",
       "      <td>1</td>\n",
       "      <td>5</td>\n",
       "      <td>41</td>\n",
       "      <td>40</td>\n",
       "      <td>46.0</td>\n",
       "      <td>44</td>\n",
       "      <td>46</td>\n",
       "      <td>46</td>\n",
       "      <td>46</td>\n",
       "      <td>41</td>\n",
       "      <td>0</td>\n",
       "      <td>0</td>\n",
       "      <td>0</td>\n",
       "      <td>0</td>\n",
       "      <td>0</td>\n",
       "      <td>1</td>\n",
       "      <td>0</td>\n",
       "    </tr>\n",
       "  </tbody>\n",
       "</table>\n",
       "</div>"
      ],
      "text/plain": [
       "   year  month  day  temp_2  temp_1  average  actual  forecast_noaa  \\\n",
       "0  2016      1    1      45      45     45.6      45             43   \n",
       "1  2016      1    2      44      45     45.7      44             41   \n",
       "2  2016      1    3      45      44     45.8      41             43   \n",
       "3  2016      1    4      44      41     45.9      40             44   \n",
       "4  2016      1    5      41      40     46.0      44             46   \n",
       "\n",
       "   forecast_acc  forecast_under  friend  week_Fri  week_Mon  week_Sat  \\\n",
       "0            50              44      29         1         0         0   \n",
       "1            50              44      61         0         0         1   \n",
       "2            46              47      56         0         0         0   \n",
       "3            48              46      53         0         1         0   \n",
       "4            46              46      41         0         0         0   \n",
       "\n",
       "   week_Sun  week_Thurs  week_Tues  week_Wed  \n",
       "0         0           0          0         0  \n",
       "1         0           0          0         0  \n",
       "2         1           0          0         0  \n",
       "3         0           0          0         0  \n",
       "4         0           0          1         0  "
      ]
     },
     "execution_count": 8,
     "metadata": {},
     "output_type": "execute_result"
    }
   ],
   "source": [
    "data = pd.get_dummies(data)\n",
    "data.head()"
   ]
  },
  {
   "cell_type": "markdown",
   "id": "96949469",
   "metadata": {},
   "source": [
    "# train - test\n",
    "## 这里数据类型变换重点看一下"
   ]
  },
  {
   "cell_type": "code",
   "execution_count": 11,
   "id": "7e93c480",
   "metadata": {},
   "outputs": [],
   "source": [
    "import numpy as np\n",
    "# labels is the value we want to predict\n",
    "labels = np.array(data['actual'])\n",
    "#remove the labels from data\n",
    "data = data.drop('actual',axis = 1)\n",
    "# saving feature name for later use\n",
    "feature_list = list(data.columns)\n",
    "data = np.array(data)"
   ]
  },
  {
   "cell_type": "code",
   "execution_count": 13,
   "id": "13e9b184",
   "metadata": {},
   "outputs": [
    {
     "name": "stdout",
     "output_type": "stream",
     "text": [
      "Training Features Shape: (261, 17)\n",
      "Training Labels Shape: (261,)\n",
      "Testing Features Shape: (87, 17)\n",
      "Testing Labels Shape: (87,)\n"
     ]
    }
   ],
   "source": [
    "from sklearn.model_selection import train_test_split\n",
    "train_features, test_features, train_labels, test_labels = train_test_split(data, labels, test_size = 0.25, random_state = 42)\n",
    "print('Training Features Shape:', train_features.shape)\n",
    "print('Training Labels Shape:', train_labels.shape)\n",
    "print('Testing Features Shape:', test_features.shape)\n",
    "print('Testing Labels Shape:', test_labels.shape)\n"
   ]
  },
  {
   "cell_type": "markdown",
   "id": "e5d29e86",
   "metadata": {},
   "source": [
    " ## establish the baseline"
   ]
  },
  {
   "cell_type": "markdown",
   "id": "678c2381",
   "metadata": {},
   "source": [
    "Before we can make and evaluate predictions, we need to establish a baseline, a sensible measure that we hope to beat with our model. If our model cannot improve upon the baseline, then it will be a failure and we should try a different model or admit that machine learning is not right for our problem."
   ]
  },
  {
   "cell_type": "code",
   "execution_count": 16,
   "id": "8340fa4b",
   "metadata": {},
   "outputs": [
    {
     "name": "stdout",
     "output_type": "stream",
     "text": [
      "avg baseline error: 5.06\n"
     ]
    }
   ],
   "source": [
    "baseline_preds = test_features[:, feature_list.index('average')] # test组的avg值\n",
    "baseline_errors = abs(baseline_preds - test_labels) # avg-实际值\n",
    "print('avg baseline error:',round(np.mean(baseline_errors),2))"
   ]
  },
  {
   "cell_type": "markdown",
   "id": "121905e6",
   "metadata": {},
   "source": [
    "# train model (basic)"
   ]
  },
  {
   "cell_type": "code",
   "execution_count": 18,
   "id": "ccc7ccb1",
   "metadata": {},
   "outputs": [
    {
     "data": {
      "text/plain": [
       "RandomForestRegressor(n_estimators=1000, random_state=42)"
      ]
     },
     "execution_count": 18,
     "metadata": {},
     "output_type": "execute_result"
    }
   ],
   "source": [
    "from sklearn.ensemble import RandomForestRegressor\n",
    "rf = RandomForestRegressor(n_estimators = 1000, random_state = 42)\n",
    "rf.fit(train_features, train_labels)"
   ]
  },
  {
   "cell_type": "code",
   "execution_count": 20,
   "id": "752d0399",
   "metadata": {},
   "outputs": [
    {
     "name": "stdout",
     "output_type": "stream",
     "text": [
      "mean absolute error: 3.87\n"
     ]
    }
   ],
   "source": [
    "prediction = rf.predict(test_features)\n",
    "error = abs(prediction-test_labels)\n",
    "print('mean absolute error:',round(np.mean(error),2))"
   ]
  },
  {
   "cell_type": "code",
   "execution_count": 21,
   "id": "2cdec5d6",
   "metadata": {},
   "outputs": [
    {
     "name": "stdout",
     "output_type": "stream",
     "text": [
      "accuracy 93.93 %\n"
     ]
    }
   ],
   "source": [
    "# calculate mean absolute percentage error (MAPE)\n",
    "mape = 100 * (error/test_labels)\n",
    "accuracy = 100 - np.mean(mape)\n",
    "print('accuracy',round(accuracy,2),'%')"
   ]
  },
  {
   "cell_type": "markdown",
   "id": "69a50976",
   "metadata": {},
   "source": [
    "# improve model (hyperparameter runing)"
   ]
  },
  {
   "cell_type": "code",
   "execution_count": null,
   "id": "97b4db3c",
   "metadata": {},
   "outputs": [],
   "source": []
  },
  {
   "cell_type": "code",
   "execution_count": null,
   "id": "6a2e05fc",
   "metadata": {},
   "outputs": [],
   "source": []
  },
  {
   "cell_type": "markdown",
   "id": "cde76520",
   "metadata": {},
   "source": [
    "# interpret model and report result"
   ]
  },
  {
   "cell_type": "markdown",
   "id": "3f1e2aa5",
   "metadata": {},
   "source": [
    "At this point, we know our model is good, but it’s pretty much a black box. We feed in some Numpy arrays for training, ask it to make a prediction, evaluate the predictions, and see that they are reasonable. The question is: how does this model arrive at the values? There are two approaches to get under the hood of the random forest: first, we can look at a single tree in the forest, and second, we can look at the feature importances of our explanatory variables."
   ]
  },
  {
   "cell_type": "markdown",
   "id": "fae99ef4",
   "metadata": {},
   "source": [
    "### visualizing a single decision tree"
   ]
  },
  {
   "cell_type": "code",
   "execution_count": 23,
   "id": "816e924c",
   "metadata": {},
   "outputs": [
    {
     "ename": "ModuleNotFoundError",
     "evalue": "No module named 'pydot'",
     "output_type": "error",
     "traceback": [
      "\u001b[0;31m---------------------------------------------------------------------------\u001b[0m",
      "\u001b[0;31mModuleNotFoundError\u001b[0m                       Traceback (most recent call last)",
      "\u001b[0;32m<ipython-input-23-46d24d6b0849>\u001b[0m in \u001b[0;36m<module>\u001b[0;34m\u001b[0m\n\u001b[1;32m      1\u001b[0m \u001b[0;32mfrom\u001b[0m \u001b[0msklearn\u001b[0m\u001b[0;34m.\u001b[0m\u001b[0mtree\u001b[0m \u001b[0;32mimport\u001b[0m \u001b[0mexport_graphviz\u001b[0m\u001b[0;34m\u001b[0m\u001b[0;34m\u001b[0m\u001b[0m\n\u001b[0;32m----> 2\u001b[0;31m \u001b[0;32mimport\u001b[0m \u001b[0mpydot\u001b[0m\u001b[0;34m\u001b[0m\u001b[0;34m\u001b[0m\u001b[0m\n\u001b[0m\u001b[1;32m      3\u001b[0m \u001b[0;34m\u001b[0m\u001b[0m\n\u001b[1;32m      4\u001b[0m \u001b[0;31m# pull out one tree from the forest\u001b[0m\u001b[0;34m\u001b[0m\u001b[0;34m\u001b[0m\u001b[0;34m\u001b[0m\u001b[0m\n\u001b[1;32m      5\u001b[0m \u001b[0mtree\u001b[0m \u001b[0;34m=\u001b[0m \u001b[0mrf\u001b[0m\u001b[0;34m.\u001b[0m\u001b[0mestimators_\u001b[0m\u001b[0;34m[\u001b[0m\u001b[0;36m8\u001b[0m\u001b[0;34m]\u001b[0m\u001b[0;34m\u001b[0m\u001b[0;34m\u001b[0m\u001b[0m\n",
      "\u001b[0;31mModuleNotFoundError\u001b[0m: No module named 'pydot'"
     ]
    }
   ],
   "source": [
    "from sklearn.tree import export_graphviz\n",
    "import pydot\n",
    "\n",
    "# pull out one tree from the forest\n",
    "tree = rf.estimators_[8]\n",
    "export_graphviz(tree, out_file = 'tree.dot', feature_names = feature_list, rounded = True, precision = 1)\n",
    "(graph, ) = pydot.graph_from_dot_file('tree.dot')\n",
    "graph.write_png('tree.png')"
   ]
  },
  {
   "cell_type": "code",
   "execution_count": null,
   "id": "933d47c3",
   "metadata": {},
   "outputs": [],
   "source": []
  },
  {
   "cell_type": "code",
   "execution_count": null,
   "id": "bfd87453",
   "metadata": {},
   "outputs": [],
   "source": []
  },
  {
   "cell_type": "markdown",
   "id": "6dfa4590",
   "metadata": {},
   "source": [
    "### variable importance"
   ]
  },
  {
   "cell_type": "code",
   "execution_count": 24,
   "id": "775e392c",
   "metadata": {},
   "outputs": [
    {
     "data": {
      "text/plain": [
       "[0.0,\n",
       " 0.010329714202200255,\n",
       " 0.021119330680396488,\n",
       " 0.02099328360465877,\n",
       " 0.655553271473427,\n",
       " 0.15032982921113514,\n",
       " 0.045382293248822446,\n",
       " 0.03485937239968542,\n",
       " 0.023190478556827192,\n",
       " 0.020684669325819506,\n",
       " 0.003524921225987202,\n",
       " 0.0025881281964305588,\n",
       " 0.0036125047603753953,\n",
       " 0.0022890741053675223,\n",
       " 0.001266445386981603,\n",
       " 0.002302658049751997,\n",
       " 0.00197402557213355]"
      ]
     },
     "execution_count": 24,
     "metadata": {},
     "output_type": "execute_result"
    }
   ],
   "source": [
    "importances = list(rf.feature_importances_)\n",
    "importances"
   ]
  },
  {
   "cell_type": "code",
   "execution_count": 32,
   "id": "ef5f108d",
   "metadata": {},
   "outputs": [],
   "source": [
    "# list of tuples with variables and importance\n",
    "# rf.feature_importances_和feature_list的顺序是一样的\n",
    "feature_importances = [(feature, round(importance,2)) for feature, importance in zip(feature_list, importances)]\n",
    "# sort the variables by most impt first\n",
    "feature_importances = sorted(feature_importances, key = lambda x:x[1], reverse = True)"
   ]
  },
  {
   "cell_type": "code",
   "execution_count": 33,
   "id": "c5154ec3",
   "metadata": {},
   "outputs": [
    {
     "name": "stdout",
     "output_type": "stream",
     "text": [
      "variable: temp_1               importance: 0.66\n",
      "variable: average              importance: 0.15\n",
      "variable: forecast_noaa        importance: 0.05\n",
      "variable: forecast_acc         importance: 0.03\n",
      "variable: day                  importance: 0.02\n",
      "variable: temp_2               importance: 0.02\n",
      "variable: forecast_under       importance: 0.02\n",
      "variable: friend               importance: 0.02\n",
      "variable: month                importance: 0.01\n",
      "variable: year                 importance: 0.0\n",
      "variable: week_Fri             importance: 0.0\n",
      "variable: week_Mon             importance: 0.0\n",
      "variable: week_Sat             importance: 0.0\n",
      "variable: week_Sun             importance: 0.0\n",
      "variable: week_Thurs           importance: 0.0\n",
      "variable: week_Tues            importance: 0.0\n",
      "variable: week_Wed             importance: 0.0\n"
     ]
    },
    {
     "data": {
      "text/plain": [
       "[None,\n",
       " None,\n",
       " None,\n",
       " None,\n",
       " None,\n",
       " None,\n",
       " None,\n",
       " None,\n",
       " None,\n",
       " None,\n",
       " None,\n",
       " None,\n",
       " None,\n",
       " None,\n",
       " None,\n",
       " None,\n",
       " None]"
      ]
     },
     "execution_count": 33,
     "metadata": {},
     "output_type": "execute_result"
    }
   ],
   "source": [
    "[print('variable: {:20} importance: {}'.format(*pair)) for pair in feature_importances]"
   ]
  },
  {
   "cell_type": "code",
   "execution_count": 34,
   "id": "8bf56ea2",
   "metadata": {},
   "outputs": [
    {
     "data": {
      "text/plain": [
       "array([0.        , 0.01032971, 0.02111933, 0.02099328, 0.65555327,\n",
       "       0.15032983, 0.04538229, 0.03485937, 0.02319048, 0.02068467,\n",
       "       0.00352492, 0.00258813, 0.0036125 , 0.00228907, 0.00126645,\n",
       "       0.00230266, 0.00197403])"
      ]
     },
     "execution_count": 34,
     "metadata": {},
     "output_type": "execute_result"
    }
   ],
   "source": [
    "rf.feature_importances_"
   ]
  },
  {
   "cell_type": "markdown",
   "id": "1eac5823",
   "metadata": {},
   "source": [
    "In future implementations of the model, we can remove those variables that have no importance and the performance will not suffer. Additionally, if we are using a different model, say a support vector machine, we could use the random forest feature importances as a kind of feature selection method. Let’s quickly make a random forest with only the two most important variables, the max temperature 1 day prior and the historical average and see how the performance compares."
   ]
  },
  {
   "cell_type": "markdown",
   "id": "5e7326c7",
   "metadata": {},
   "source": [
    "if we only use the most impt two variables, let's see how performance compares."
   ]
  },
  {
   "cell_type": "code",
   "execution_count": 35,
   "id": "a2c15e07",
   "metadata": {},
   "outputs": [],
   "source": [
    "impt_index = [feature_list.index('temp_1'),feature_list.index('average')]\n",
    "train_impt = train_features[:,impt_index]\n",
    "test_impt = test_features[:,impt_index]\n"
   ]
  },
  {
   "cell_type": "code",
   "execution_count": 36,
   "id": "9ac1e2b3",
   "metadata": {},
   "outputs": [
    {
     "name": "stdout",
     "output_type": "stream",
     "text": [
      "mean absolute error: 3.92\n"
     ]
    }
   ],
   "source": [
    "rf_impt = RandomForestRegressor(n_estimators = 1000, random_state = 42)\n",
    "rf_impt.fit(train_impt, train_labels)\n",
    "impt_prediction = rf_impt.predict(test_impt)\n",
    "impt_error = abs(impt_prediction-test_labels)\n",
    "print('mean absolute error:',round(np.mean(impt_error),2))"
   ]
  },
  {
   "cell_type": "markdown",
   "id": "99951809",
   "metadata": {},
   "source": [
    "3.92 >3.86 it told us we do not need all the data we collected to make accurate predictions."
   ]
  },
  {
   "cell_type": "code",
   "execution_count": null,
   "id": "30786f00",
   "metadata": {},
   "outputs": [],
   "source": [
    "take away\n",
    "1. establish the baseline\n",
    "2. \n"
   ]
  },
  {
   "cell_type": "code",
   "execution_count": 7,
   "id": "3246574d",
   "metadata": {},
   "outputs": [
    {
     "ename": "KeyboardInterrupt",
     "evalue": "Interrupted by user",
     "output_type": "error",
     "traceback": [
      "\u001b[0;31m---------------------------------------------------------------------------\u001b[0m",
      "\u001b[0;31mKeyboardInterrupt\u001b[0m                         Traceback (most recent call last)",
      "\u001b[0;32m<ipython-input-7-3bb4f52b64a4>\u001b[0m in \u001b[0;36m<module>\u001b[0;34m\u001b[0m\n\u001b[1;32m      2\u001b[0m \u001b[0mcards\u001b[0m \u001b[0;34m=\u001b[0m \u001b[0;34m[\u001b[0m\u001b[0;34m'empty'\u001b[0m\u001b[0;34m,\u001b[0m \u001b[0;34m'empty'\u001b[0m\u001b[0;34m,\u001b[0m \u001b[0;34m'amazon'\u001b[0m\u001b[0;34m]\u001b[0m\u001b[0;34m\u001b[0m\u001b[0;34m\u001b[0m\u001b[0m\n\u001b[1;32m      3\u001b[0m \u001b[0mrandom\u001b[0m\u001b[0;34m.\u001b[0m\u001b[0mshuffle\u001b[0m\u001b[0;34m(\u001b[0m\u001b[0mcards\u001b[0m\u001b[0;34m)\u001b[0m\u001b[0;34m\u001b[0m\u001b[0;34m\u001b[0m\u001b[0m\n\u001b[0;32m----> 4\u001b[0;31m \u001b[0ma\u001b[0m \u001b[0;34m=\u001b[0m \u001b[0minput\u001b[0m\u001b[0;34m(\u001b[0m\u001b[0;34m'Please choose a card: 0, 1 or 2\\n>'\u001b[0m\u001b[0;34m)\u001b[0m\u001b[0;34m\u001b[0m\u001b[0;34m\u001b[0m\u001b[0m\n\u001b[0m\u001b[1;32m      5\u001b[0m \u001b[0mnumber\u001b[0m \u001b[0;34m=\u001b[0m \u001b[0mint\u001b[0m\u001b[0;34m(\u001b[0m\u001b[0ma\u001b[0m\u001b[0;34m)\u001b[0m\u001b[0;34m\u001b[0m\u001b[0;34m\u001b[0m\u001b[0m\n\u001b[1;32m      6\u001b[0m \u001b[0;32mif\u001b[0m \u001b[0mcards\u001b[0m\u001b[0;34m[\u001b[0m\u001b[0mnumber\u001b[0m\u001b[0;34m]\u001b[0m \u001b[0;34m==\u001b[0m \u001b[0;34m'amazon'\u001b[0m\u001b[0;34m:\u001b[0m\u001b[0;34m\u001b[0m\u001b[0;34m\u001b[0m\u001b[0m\n",
      "\u001b[0;32m/opt/anaconda3/lib/python3.8/site-packages/ipykernel/kernelbase.py\u001b[0m in \u001b[0;36mraw_input\u001b[0;34m(self, prompt)\u001b[0m\n\u001b[1;32m    858\u001b[0m                 \u001b[0;34m\"raw_input was called, but this frontend does not support input requests.\"\u001b[0m\u001b[0;34m\u001b[0m\u001b[0;34m\u001b[0m\u001b[0m\n\u001b[1;32m    859\u001b[0m             )\n\u001b[0;32m--> 860\u001b[0;31m         return self._input_request(str(prompt),\n\u001b[0m\u001b[1;32m    861\u001b[0m             \u001b[0mself\u001b[0m\u001b[0;34m.\u001b[0m\u001b[0m_parent_ident\u001b[0m\u001b[0;34m,\u001b[0m\u001b[0;34m\u001b[0m\u001b[0;34m\u001b[0m\u001b[0m\n\u001b[1;32m    862\u001b[0m             \u001b[0mself\u001b[0m\u001b[0;34m.\u001b[0m\u001b[0m_parent_header\u001b[0m\u001b[0;34m,\u001b[0m\u001b[0;34m\u001b[0m\u001b[0;34m\u001b[0m\u001b[0m\n",
      "\u001b[0;32m/opt/anaconda3/lib/python3.8/site-packages/ipykernel/kernelbase.py\u001b[0m in \u001b[0;36m_input_request\u001b[0;34m(self, prompt, ident, parent, password)\u001b[0m\n\u001b[1;32m    902\u001b[0m             \u001b[0;32mexcept\u001b[0m \u001b[0mKeyboardInterrupt\u001b[0m\u001b[0;34m:\u001b[0m\u001b[0;34m\u001b[0m\u001b[0;34m\u001b[0m\u001b[0m\n\u001b[1;32m    903\u001b[0m                 \u001b[0;31m# re-raise KeyboardInterrupt, to truncate traceback\u001b[0m\u001b[0;34m\u001b[0m\u001b[0;34m\u001b[0m\u001b[0;34m\u001b[0m\u001b[0m\n\u001b[0;32m--> 904\u001b[0;31m                 \u001b[0;32mraise\u001b[0m \u001b[0mKeyboardInterrupt\u001b[0m\u001b[0;34m(\u001b[0m\u001b[0;34m\"Interrupted by user\"\u001b[0m\u001b[0;34m)\u001b[0m \u001b[0;32mfrom\u001b[0m \u001b[0;32mNone\u001b[0m\u001b[0;34m\u001b[0m\u001b[0;34m\u001b[0m\u001b[0m\n\u001b[0m\u001b[1;32m    905\u001b[0m             \u001b[0;32mexcept\u001b[0m \u001b[0mException\u001b[0m \u001b[0;32mas\u001b[0m \u001b[0me\u001b[0m\u001b[0;34m:\u001b[0m\u001b[0;34m\u001b[0m\u001b[0;34m\u001b[0m\u001b[0m\n\u001b[1;32m    906\u001b[0m                 \u001b[0mself\u001b[0m\u001b[0;34m.\u001b[0m\u001b[0mlog\u001b[0m\u001b[0;34m.\u001b[0m\u001b[0mwarning\u001b[0m\u001b[0;34m(\u001b[0m\u001b[0;34m\"Invalid Message:\"\u001b[0m\u001b[0;34m,\u001b[0m \u001b[0mexc_info\u001b[0m\u001b[0;34m=\u001b[0m\u001b[0;32mTrue\u001b[0m\u001b[0;34m)\u001b[0m\u001b[0;34m\u001b[0m\u001b[0;34m\u001b[0m\u001b[0m\n",
      "\u001b[0;31mKeyboardInterrupt\u001b[0m: Interrupted by user"
     ]
    }
   ],
   "source": [
    "import random \n",
    "cards = ['empty', 'empty', 'amazon'] \n",
    "random.shuffle(cards) \n",
    "a = input('Please choose a card: 0, 1 or 2\\n>') \n",
    "number = int(a) \n",
    "if cards[number] == 'amazon':\n",
    "    print('you guessed right!') \n",
    "else: \n",
    "    print('nope, nothing there') "
   ]
  },
  {
   "cell_type": "code",
   "execution_count": null,
   "id": "ce26416c",
   "metadata": {},
   "outputs": [],
   "source": []
  },
  {
   "cell_type": "code",
   "execution_count": null,
   "id": "b7ad6ec7",
   "metadata": {},
   "outputs": [],
   "source": []
  },
  {
   "cell_type": "code",
   "execution_count": null,
   "id": "70ee0194",
   "metadata": {},
   "outputs": [],
   "source": []
  },
  {
   "cell_type": "code",
   "execution_count": null,
   "id": "37eb21ca",
   "metadata": {},
   "outputs": [],
   "source": []
  },
  {
   "cell_type": "code",
   "execution_count": null,
   "id": "d48a8614",
   "metadata": {},
   "outputs": [],
   "source": []
  },
  {
   "cell_type": "code",
   "execution_count": null,
   "id": "494ffc5f",
   "metadata": {},
   "outputs": [],
   "source": []
  },
  {
   "cell_type": "code",
   "execution_count": null,
   "id": "02016740",
   "metadata": {},
   "outputs": [],
   "source": []
  }
 ],
 "metadata": {
  "kernelspec": {
   "display_name": "Python 3",
   "language": "python",
   "name": "python3"
  },
  "language_info": {
   "codemirror_mode": {
    "name": "ipython",
    "version": 3
   },
   "file_extension": ".py",
   "mimetype": "text/x-python",
   "name": "python",
   "nbconvert_exporter": "python",
   "pygments_lexer": "ipython3",
   "version": "3.8.8"
  }
 },
 "nbformat": 4,
 "nbformat_minor": 5
}
